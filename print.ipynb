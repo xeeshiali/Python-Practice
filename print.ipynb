{
 "cells": [
  {
   "cell_type": "code",
   "execution_count": 2,
   "metadata": {},
   "outputs": [
    {
     "name": "stdout",
     "output_type": "stream",
     "text": [
      "Hello\n"
     ]
    }
   ],
   "source": [
    "print(\"Hello\")"
   ]
  },
  {
   "cell_type": "code",
   "execution_count": 3,
   "metadata": {},
   "outputs": [
    {
     "name": "stdout",
     "output_type": "stream",
     "text": [
      "12 23\n"
     ]
    }
   ],
   "source": [
    "print(12,23)"
   ]
  },
  {
   "cell_type": "code",
   "execution_count": 8,
   "metadata": {},
   "outputs": [
    {
     "name": "stdout",
     "output_type": "stream",
     "text": [
      "python Chapter 1 Print Practice\n"
     ]
    }
   ],
   "source": [
    "print(\"python\" , \"Chapter 1\" , \"Print Practice\")"
   ]
  },
  {
   "cell_type": "markdown",
   "metadata": {},
   "source": [
    "# Escape Characters Examples"
   ]
  },
  {
   "cell_type": "code",
   "execution_count": 6,
   "metadata": {},
   "outputs": [
    {
     "name": "stdout",
     "output_type": "stream",
     "text": [
      "pythonChapter1Print Practice\n"
     ]
    }
   ],
   "source": [
    "print(\"python\" , \"Chapter 1\" , \"Print Practice\" , sep=\"\") #now i'll remove spaces between the words if you want to \n",
    "# add the spaces between the words then there are two methods either you remove the sep=\"\"(like in the upper example) \n",
    "# attribute or simply write sep=\" \" (like described in below example)"
   ]
  },
  {
   "cell_type": "code",
   "execution_count": 7,
   "metadata": {},
   "outputs": [
    {
     "name": "stdout",
     "output_type": "stream",
     "text": [
      "python Chapter 1 Print Practice\n"
     ]
    }
   ],
   "source": [
    "print(\"python\" , \"Chapter 1\" , \"Print Practice\" , sep=\" \")"
   ]
  },
  {
   "cell_type": "code",
   "execution_count": 10,
   "metadata": {},
   "outputs": [
    {
     "name": "stdout",
     "output_type": "stream",
     "text": [
      "python\n",
      "Chapter 1\n",
      "Print Practice\n"
     ]
    }
   ],
   "source": [
    "print(\"python\") \n",
    "print(\"Chapter 1\")  \n",
    "print(\"Print Practice\")"
   ]
  },
  {
   "cell_type": "code",
   "execution_count": 13,
   "metadata": {},
   "outputs": [
    {
     "name": "stdout",
     "output_type": "stream",
     "text": [
      "PythonChapter 1Print Practice\n"
     ]
    }
   ],
   "source": [
    "print(\"Python\" , end=\"\") \n",
    "print(\"Chapter 1\" , end=\"\")  \n",
    "print(\"Print Practice\") # to avoid to go to next line"
   ]
  },
  {
   "cell_type": "code",
   "execution_count": 14,
   "metadata": {},
   "outputs": [
    {
     "name": "stdout",
     "output_type": "stream",
     "text": [
      "Python\n",
      "Chapter 1\n",
      "Print Practice\n"
     ]
    }
   ],
   "source": [
    "print(\"Python\" , end=\"\\n\") \n",
    "print(\"Chapter 1\" , end=\"\\n\")  \n",
    "print(\"Print Practice\") # to add new line"
   ]
  },
  {
   "cell_type": "code",
   "execution_count": 15,
   "metadata": {},
   "outputs": [
    {
     "name": "stdout",
     "output_type": "stream",
     "text": [
      "Python\n",
      "\n",
      "\n",
      "Chapter 1\n",
      "\n",
      "\n",
      "Print Practice\n"
     ]
    }
   ],
   "source": [
    "print(\"Python\" , end=\"\\n\\n\\n\") \n",
    "print(\"Chapter 1\" , end=\"\\n\\n\\n\")  \n",
    "print(\"Print Practice\") # to add multiple lines"
   ]
  },
  {
   "cell_type": "code",
   "execution_count": 16,
   "metadata": {},
   "outputs": [
    {
     "name": "stdout",
     "output_type": "stream",
     "text": [
      "Python\tChapter 1\t\t\tPrint Practice\n"
     ]
    }
   ],
   "source": [
    "print(\"Python\" , end=\"\\t\") \n",
    "print(\"Chapter 1\" , end=\"\\t\\t\\t\")  \n",
    "print(\"Print Practice\") # to add tab spaces"
   ]
  },
  {
   "cell_type": "code",
   "execution_count": null,
   "metadata": {},
   "outputs": [],
   "source": []
  }
 ],
 "metadata": {
  "kernelspec": {
   "display_name": "Python 3",
   "language": "python",
   "name": "python3"
  },
  "language_info": {
   "codemirror_mode": {
    "name": "ipython",
    "version": 3
   },
   "file_extension": ".py",
   "mimetype": "text/x-python",
   "name": "python",
   "nbconvert_exporter": "python",
   "pygments_lexer": "ipython3",
   "version": "3.7.6"
  }
 },
 "nbformat": 4,
 "nbformat_minor": 4
}
