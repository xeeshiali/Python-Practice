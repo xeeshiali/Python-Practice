{
 "cells": [
  {
   "cell_type": "code",
   "execution_count": 1,
   "metadata": {},
   "outputs": [
    {
     "name": "stdout",
     "output_type": "stream",
     "text": [
      "a is less than b\n"
     ]
    }
   ],
   "source": [
    "a = 100\n",
    "b = 200\n",
    "\n",
    "if a < b:\n",
    "    print(\"a is less than b\")"
   ]
  },
  {
   "cell_type": "code",
   "execution_count": 2,
   "metadata": {},
   "outputs": [
    {
     "name": "stdout",
     "output_type": "stream",
     "text": [
      "a is equal to b\n"
     ]
    }
   ],
   "source": [
    "a = 44\n",
    "b = 44\n",
    "\n",
    "if a < b:\n",
    "    print(\"a is less than b\")\n",
    "elif a == b:\n",
    "    print(\"a is equal to b\")"
   ]
  },
  {
   "cell_type": "code",
   "execution_count": 3,
   "metadata": {},
   "outputs": [
    {
     "name": "stdout",
     "output_type": "stream",
     "text": [
      "a is greater than b\n"
     ]
    }
   ],
   "source": [
    "a = 300\n",
    "b = 56\n",
    "\n",
    "if a < b :\n",
    "    print(\"a is less than b\")\n",
    "elif a == b :\n",
    "    print(\"a is equal to b\")\n",
    "else:\n",
    "    print(\"a is greater than b\")"
   ]
  },
  {
   "cell_type": "code",
   "execution_count": 2,
   "metadata": {},
   "outputs": [
    {
     "name": "stdout",
     "output_type": "stream",
     "text": [
      "1505,1540,1575,1610,1645,1680,1715,1750,1785,1820,1855,1890,1925,1960,1995,2030,2065,2100,2135,2170,2205,2240,2275,2310,2345,2380,2415,2450,2485,2520,2555,2590,2625,2660,2695\n"
     ]
    }
   ],
   "source": [
    "# Q: Write a Python program to find those numbers which are divisible by 7 and multiple of 5, between 1500 and 2700 (both included).\n",
    "\n",
    "\n",
    "a = []\n",
    "for x in range (1500 , 2701):\n",
    "    if (x % 7 == 0) and (x % 5 == 0):\n",
    "        a.append(str(x))\n",
    "print(','.join(a))\n"
   ]
  },
  {
   "cell_type": "code",
   "execution_count": 4,
   "metadata": {},
   "outputs": [
    {
     "name": "stdout",
     "output_type": "stream",
     "text": [
      "Enter Marks99\n",
      "Grade is A\n"
     ]
    }
   ],
   "source": [
    "# Q: Write a python program which accepts percentage from the user and write the grade according to it.\n",
    "\n",
    "per = int(input(\"Enter Marks\"))\n",
    "if per > 90:\n",
    "    print(\"Grade is A\")\n",
    "elif per > 80 and per <= 90:\n",
    "    print(Grade is B)\n",
    "elif per >= 60 and per <= 80:\n",
    "    print(\"Grade is B\")\n",
    "elif per >= 40 and per <= 60:\n",
    "    print(\"Grade is C\")\n",
    "elif per <=39:\n",
    "    print(\"Grade is F\")"
   ]
  },
  {
   "cell_type": "code",
   "execution_count": 6,
   "metadata": {},
   "outputs": [
    {
     "name": "stdout",
     "output_type": "stream",
     "text": [
      "Enter any number between 1 to 7 : 6\n",
      "Friday\n"
     ]
    }
   ],
   "source": [
    "# Q: Write a python program which accepts the number from the user between 1 to 7 and print the days like 1 for Sunday and 2 for Monday etc.\n",
    "\n",
    "num = int(input(\"Enter any number between 1 to 7 : \"))\n",
    "if num == 1:\n",
    "    print(\"Sunday\")\n",
    "elif num == 2:\n",
    "    print(\"Monday\")\n",
    "elif num == 3:\n",
    "    print(\"Tuesday\")\n",
    "elif num == 4:\n",
    "    print(\"Wednesday\")\n",
    "elif  num == 5:\n",
    "    print(\"Thursday\")\n",
    "elif num == 6:\n",
    "    print(\"Friday\")\n",
    "elif num == 7:\n",
    "    print(\"Saturday\")"
   ]
  },
  {
   "cell_type": "code",
   "execution_count": 8,
   "metadata": {},
   "outputs": [
    {
     "name": "stdout",
     "output_type": "stream",
     "text": [
      "Enter the price of the bike: 49000\n",
      "Road Tax : 5%\n"
     ]
    }
   ],
   "source": [
    "# Q: Write a python program which accepts the price of the bike and display road tax according to the bike price\n",
    "\n",
    "price = int(input(\"Enter the price of the bike: \"))\n",
    "\n",
    "if price >= 100000:\n",
    "    print(\"Road Tax : 15%\")\n",
    "elif price >= 50000 and price < 100000:\n",
    "    print(\"Road Tax : 10%\")\n",
    "elif price < 50000:\n",
    "    print(\"Road Tax : 5%\")"
   ]
  },
  {
   "cell_type": "code",
   "execution_count": 4,
   "metadata": {},
   "outputs": [
    {
     "name": "stdout",
     "output_type": "stream",
     "text": [
      "Enter the year : 2023\n",
      "Not a leap year\n"
     ]
    }
   ],
   "source": [
    "# Q: Write a python program to accept year from user and tell whether it is a leap year or not?\n",
    "\n",
    "year = int(input(\"Enter the year : \"))\n",
    "if year % 100 == 0:\n",
    "    if year % 400 == 0:\n",
    "        print(\"It is a leap year\")\n",
    "        \n",
    "    else:\n",
    "            print(\"Not a leap year\")\n",
    "else:\n",
    "        if year % 4 == 0:\n",
    "            print(\"It is a leap year\")\n",
    "        else:\n",
    "            print(\"Not a leap year\")"
   ]
  },
  {
   "cell_type": "code",
   "execution_count": 11,
   "metadata": {},
   "outputs": [
    {
     "name": "stdout",
     "output_type": "stream",
     "text": [
      "Enter your age : 12\n",
      "Not eligible to vote\n"
     ]
    }
   ],
   "source": [
    "# Q: Write a python program to check whether the person is eligible to vote or not.?\n",
    "\n",
    "age = int(input(\"Enter your age : \"))\n",
    "if age >= 18:\n",
    "    print(\"Eligible to vote\", )\n",
    "else:\n",
    "    print(\"Not eligible to vote\")"
   ]
  },
  {
   "cell_type": "code",
   "execution_count": 7,
   "metadata": {},
   "outputs": [
    {
     "name": "stdout",
     "output_type": "stream",
     "text": [
      "Enter the first number : 34\n",
      "Enter the second number : 45\n",
      "Number 2 is greater\n"
     ]
    }
   ],
   "source": [
    "# Q: Write a pyton program to check the lowest number between two.!\n",
    "\n",
    "num1 = int(input(\"Enter the first number : \"))\n",
    "num2 = int(input(\"Enter the second number : \"))\n",
    "\n",
    "if num1 > num2:\n",
    "    print(\"Number 1 is greater\")\n",
    "elif num2 > num1:\n",
    "    print(\"Number 2 is greater\")\n",
    "else:\n",
    "    print(\"Both are equal\")"
   ]
  },
  {
   "cell_type": "code",
   "execution_count": 9,
   "metadata": {},
   "outputs": [
    {
     "name": "stdout",
     "output_type": "stream",
     "text": [
      "Enter any number : 23\n",
      "It is an odd number\n"
     ]
    }
   ],
   "source": [
    "# Q: Write a python program to check whether a number is even and odd\n",
    "\n",
    "num = int(input(\"Enter any number : \"))\n",
    "if num % 2 == 0:\n",
    "    print(\"It is an even number\")\n",
    "else:\n",
    "    print(\"It is an odd number\")"
   ]
  },
  {
   "cell_type": "code",
   "execution_count": 12,
   "metadata": {},
   "outputs": [
    {
     "name": "stdout",
     "output_type": "stream",
     "text": [
      "Enter any number : 5\n",
      "Not divisible by 2 and 3\n"
     ]
    }
   ],
   "source": [
    "# Q: Write a python program to check the number is divisible by 2 and 3 both\n",
    "\n",
    "num = int(input(\"Enter any number : \"))\n",
    "if num % 2 == 0:\n",
    "    if num % 3 == 0:\n",
    "        print(\"It is divisible by both 2 and 3\")\n",
    "else:\n",
    "    print(\"Not divisible by 2 and 3\")"
   ]
  },
  {
   "cell_type": "code",
   "execution_count": null,
   "metadata": {},
   "outputs": [],
   "source": []
  }
 ],
 "metadata": {
  "kernelspec": {
   "display_name": "Python 3",
   "language": "python",
   "name": "python3"
  },
  "language_info": {
   "codemirror_mode": {
    "name": "ipython",
    "version": 3
   },
   "file_extension": ".py",
   "mimetype": "text/x-python",
   "name": "python",
   "nbconvert_exporter": "python",
   "pygments_lexer": "ipython3",
   "version": "3.7.6"
  }
 },
 "nbformat": 4,
 "nbformat_minor": 4
}
