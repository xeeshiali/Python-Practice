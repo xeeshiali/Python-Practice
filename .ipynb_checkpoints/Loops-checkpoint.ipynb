{
 "cells": [
  {
   "cell_type": "markdown",
   "metadata": {},
   "source": [
    "Loops in Python\n",
    "1. While Loop\n",
    "2. For Loop\n",
    "3. Nested While & For"
   ]
  },
  {
   "cell_type": "markdown",
   "metadata": {},
   "source": [
    "# While Loop"
   ]
  },
  {
   "cell_type": "code",
   "execution_count": 6,
   "metadata": {},
   "outputs": [
    {
     "name": "stdout",
     "output_type": "stream",
     "text": [
      "Zeeshan\n",
      "Zeeshan\n",
      "Zeeshan\n",
      "Zeeshan\n",
      "Zeeshan\n"
     ]
    }
   ],
   "source": [
    "i = 1\n",
    "while i  <= 5 :\n",
    "    print(\"Zeeshan\")\n",
    "    i += 1"
   ]
  },
  {
   "cell_type": "code",
   "execution_count": 7,
   "metadata": {},
   "outputs": [
    {
     "name": "stdout",
     "output_type": "stream",
     "text": [
      "Zeeshan\n",
      "Zeeshan\n",
      "Zeeshan\n",
      "Zeeshan\n",
      "Zeeshan\n"
     ]
    }
   ],
   "source": [
    "i = 1\n",
    "while i <= 5 :\n",
    "    print(\"Zeeshan\")\n",
    "    i = i + 1"
   ]
  },
  {
   "cell_type": "code",
   "execution_count": null,
   "metadata": {},
   "outputs": [],
   "source": [
    "# while True :\n",
    "#    print(\"Forever\")"
   ]
  },
  {
   "cell_type": "code",
   "execution_count": null,
   "metadata": {},
   "outputs": [],
   "source": [
    "while True:\n",
    "    selected_option = input(\"Please enter a , b , c , d or q to quit: \")\n",
    "    \n",
    "    if selected_option == 'a' :\n",
    "        print(\"You selected a: \")\n",
    "    elif selected_option == 'b' :\n",
    "        print(\"You selected b: \")\n",
    "    elif selected_option == 'c' :\n",
    "        print(\"You selected c: \")\n",
    "    elif selected_option == 'q' :\n",
    "        print(\"You selected q: Quitting the menu\")\n",
    "        break\n",
    "    else :\n",
    "        print(\"You selected invaled option !\")"
   ]
  },
  {
   "cell_type": "code",
   "execution_count": null,
   "metadata": {},
   "outputs": [],
   "source": [
    "while True :\n",
    "    selected_city = input(\"Select a city: \")\n",
    "    \n",
    "    if selected_city == 'Lahore' :\n",
    "        print(\"You are Pakistani: \")\n",
    "    elif selected_city == \"Faisalabad\" :\n",
    "        print(\"You are Pakistani: \")\n",
    "    elif selected_city == 'Islamabad' :\n",
    "        print(\"You are Pakistani: \")\n",
    "    elif selected_city == \"Delhi\" :\n",
    "        print(\"You are an Indian! Quitting the program\")\n",
    "        break\n",
    "    else :\n",
    "        print(\"Stop the word:\")"
   ]
  },
  {
   "cell_type": "code",
   "execution_count": 4,
   "metadata": {},
   "outputs": [
    {
     "name": "stdout",
     "output_type": "stream",
     "text": [
      "0: 9\n",
      "1: 6\n",
      "2: 10\n",
      "3: 5\n"
     ]
    }
   ],
   "source": [
    "fruits = ['pineapple', 'banana', 'watermelon', 'mango']\n",
    "\n",
    "index = 0\n",
    "while index < len(fruits) :\n",
    "    element = fruits[index]\n",
    "    print(f\"{index}: {len(element)}\")\n",
    "    \n",
    "    index += 1"
   ]
  },
  {
   "cell_type": "code",
   "execution_count": 5,
   "metadata": {},
   "outputs": [
    {
     "name": "stdout",
     "output_type": "stream",
     "text": [
      "0: 6\n",
      "1: 10\n",
      "2: 9\n",
      "3: 10\n",
      "4: 6\n",
      "5: 9\n",
      "6: 7\n"
     ]
    }
   ],
   "source": [
    "cities = [\"Lahore\" , \"Faisalabad\" , \"Islamabad\" , \"Rawalpindi\" , \"Multan\" , \"Hyderabad\" , \"Sialkot\"]\n",
    "\n",
    "index = 0\n",
    "while index < len(cities) :\n",
    "    characters = cities[index]\n",
    "    print(f\"{index}: {len(characters)}\")\n",
    "    \n",
    "    index += 1"
   ]
  },
  {
   "cell_type": "code",
   "execution_count": 7,
   "metadata": {},
   "outputs": [
    {
     "name": "stdout",
     "output_type": "stream",
     "text": [
      "Enter your country: pakistan\n",
      "0: p\n",
      "1: a\n",
      "2: k\n",
      "3: i\n",
      "4: s\n",
      "5: t\n",
      "6: a\n",
      "7: n\n"
     ]
    }
   ],
   "source": [
    "countries = input(\"Enter your country: \")\n",
    "\n",
    "index = 0\n",
    "while index < len(countries) :\n",
    "    characters = countries[index]\n",
    "    print(f\"{index}: {characters}\")\n",
    "    index += 1"
   ]
  },
  {
   "cell_type": "code",
   "execution_count": 2,
   "metadata": {},
   "outputs": [
    {
     "name": "stdout",
     "output_type": "stream",
     "text": [
      "Enter any number: 35\n",
      "Odd number\n"
     ]
    }
   ],
   "source": [
    "number = int(input(\"Enter any number: \"))\n",
    "\n",
    "if number % 2 == 0 :\n",
    "    print(\"Even number\")\n",
    "else :        \n",
    "    print(\"Odd number\")"
   ]
  },
  {
   "cell_type": "code",
   "execution_count": 6,
   "metadata": {},
   "outputs": [
    {
     "name": "stdout",
     "output_type": "stream",
     "text": [
      "0: Odd\n",
      "1: Even\n",
      "2: Odd\n",
      "3: Even\n",
      "4: Even\n",
      "5: Odd\n",
      "6: Even\n",
      "7: Even\n",
      "8: Odd\n",
      "9: Odd\n",
      "10: Even\n",
      "11: Odd\n"
     ]
    }
   ],
   "source": [
    "num = [5,6,3,4,8,9,10,12,11,45,44,67]\n",
    "\n",
    "index = 0\n",
    "while index < len(num) :\n",
    "    element = num[index]\n",
    "    if element % 2 == 0 :\n",
    "        print(f\"{index}: Even\")\n",
    "    else :\n",
    "        print(f\"{index}: Odd\")\n",
    "    index += 1\n",
    "    \n"
   ]
  },
  {
   "cell_type": "code",
   "execution_count": 10,
   "metadata": {},
   "outputs": [
    {
     "name": "stdout",
     "output_type": "stream",
     "text": [
      "[0, 1, 2, 3, 4, 5, 6, 7, 8, 9]\n"
     ]
    }
   ],
   "source": [
    "a_list = []\n",
    "\n",
    "i = 0\n",
    "while len(a_list) < 10:\n",
    "    a_list.append(i)\n",
    "    i += 1\n",
    "\n",
    "print(a_list)"
   ]
  },
  {
   "cell_type": "code",
   "execution_count": null,
   "metadata": {},
   "outputs": [],
   "source": []
  }
 ],
 "metadata": {
  "kernelspec": {
   "display_name": "Python 3",
   "language": "python",
   "name": "python3"
  },
  "language_info": {
   "codemirror_mode": {
    "name": "ipython",
    "version": 3
   },
   "file_extension": ".py",
   "mimetype": "text/x-python",
   "name": "python",
   "nbconvert_exporter": "python",
   "pygments_lexer": "ipython3",
   "version": "3.7.6"
  }
 },
 "nbformat": 4,
 "nbformat_minor": 4
}
