{
 "cells": [
  {
   "cell_type": "markdown",
   "metadata": {},
   "source": [
    "# Dictionary"
   ]
  },
  {
   "cell_type": "code",
   "execution_count": 1,
   "metadata": {},
   "outputs": [],
   "source": [
    "# it has keys and values separated by colon closed in a curley barcket {key : value}"
   ]
  },
  {
   "cell_type": "code",
   "execution_count": 2,
   "metadata": {},
   "outputs": [
    {
     "name": "stdout",
     "output_type": "stream",
     "text": [
      "{'name': 'Zeeshan', 'course': 'Python', 'instructor': 'Nasir Hussain'}\n"
     ]
    },
    {
     "data": {
      "text/plain": [
       "3"
      ]
     },
     "execution_count": 2,
     "metadata": {},
     "output_type": "execute_result"
    }
   ],
   "source": [
    "myDict = {\"name\" : \"Zeeshan\" , \"course\" : \"Python\" , \"instructor\" : \"Nasir Hussain\"}\n",
    "print(myDict)\n",
    "len(myDict)"
   ]
  },
  {
   "cell_type": "markdown",
   "metadata": {},
   "source": [
    "# Adding new value to an existing Dictionary"
   ]
  },
  {
   "cell_type": "code",
   "execution_count": 3,
   "metadata": {},
   "outputs": [
    {
     "name": "stdout",
     "output_type": "stream",
     "text": [
      "{'name': 'Zeeshan', 'course': 'Python', 'instructor': 'Nasir Hussain', 'email': 'abcd@gmail.com'}\n"
     ]
    }
   ],
   "source": [
    "myDict[\"email\"] = \"abcd@gmail.com\"\n",
    "print(myDict)"
   ]
  },
  {
   "cell_type": "code",
   "execution_count": 4,
   "metadata": {},
   "outputs": [
    {
     "name": "stdout",
     "output_type": "stream",
     "text": [
      "{'brand': 'Ford', 'model': 'Mustang', 'year': 1964}\n"
     ]
    }
   ],
   "source": [
    "thisdict = {\n",
    "  \"brand\": \"Ford\",\n",
    "  \"model\": \"Mustang\",\n",
    "  \"year\": 1964\n",
    "}\n",
    "print(thisdict)"
   ]
  },
  {
   "cell_type": "code",
   "execution_count": 5,
   "metadata": {},
   "outputs": [
    {
     "name": "stdout",
     "output_type": "stream",
     "text": [
      "{'brand': 'Ford', 'model': 'Mustang', 'year': 1964, 'color': 'white'}\n"
     ]
    }
   ],
   "source": [
    "thisdict[\"color\"] = \"white\"\n",
    "print(thisdict)"
   ]
  },
  {
   "cell_type": "code",
   "execution_count": 6,
   "metadata": {},
   "outputs": [
    {
     "name": "stdout",
     "output_type": "stream",
     "text": [
      "{'brand': 'Ford', 'model': 'Mustang', 'year': 1964, 'color': 'white', 'condition': '10/10'}\n"
     ]
    }
   ],
   "source": [
    "# Using an update() method\n",
    "\n",
    "thisdict.update({\"condition\" : \"10/10\"})\n",
    "print(thisdict)"
   ]
  },
  {
   "cell_type": "code",
   "execution_count": 7,
   "metadata": {},
   "outputs": [
    {
     "name": "stdout",
     "output_type": "stream",
     "text": [
      "{'osaf': 25, 'Saad': 26, 'Zeeshan': 26, 'Moaz': 24}\n"
     ]
    }
   ],
   "source": [
    "# adding key & values into a dictionary using a zip() method\n",
    "\n",
    "key = [\"osaf\" , \"Saad\" , \"Zeeshan\" , \"Moaz\"]\n",
    "values = [25 , 26 , 26 , 24]\n",
    "\n",
    "zippedDict = dict(zip(key , values))\n",
    "print(zippedDict)"
   ]
  },
  {
   "cell_type": "code",
   "execution_count": 8,
   "metadata": {},
   "outputs": [
    {
     "name": "stdout",
     "output_type": "stream",
     "text": [
      "{'courses': ['python', 'OS', 'DS', 'DBMS'], 'name': ['osaf', 'Saad', 'Zeeshan', 'Moaz'], 'age': [25, 26, 26, 24]}\n"
     ]
    }
   ],
   "source": [
    "# adding list in a dictionary using zip() method\n",
    "\n",
    "key1 = [\"courses\" , \"name\" , \"age\"]\n",
    "values1 = [[\"python\" , \"OS\" , \"DS\" , \"DBMS\"] , [\"osaf\" , \"Saad\" , \"Zeeshan\" , \"Moaz\"] , [25 , 26 , 26 , 24]]\n",
    "\n",
    "zippedDict1 = dict(zip(key1 , values1))\n",
    "print(zippedDict1)"
   ]
  },
  {
   "cell_type": "code",
   "execution_count": 9,
   "metadata": {},
   "outputs": [
    {
     "name": "stdout",
     "output_type": "stream",
     "text": [
      "{1: 'A', 2: 'B', 3: 'C', 4: 'D', 5: 'E', 6: 'F'}\n"
     ]
    }
   ],
   "source": [
    "# adding key & values using for loop\n",
    "\n",
    "dicts = {}\n",
    "key2 = [1,2,3,4,5,6]\n",
    "value2 = ['A' , 'B' , 'C' , 'D' , 'E' , 'F']\n",
    "\n",
    "for i in range(len(key2)):\n",
    "    dicts[key2[i]] = value2[i]\n",
    "print(dicts)"
   ]
  },
  {
   "cell_type": "code",
   "execution_count": 10,
   "metadata": {},
   "outputs": [
    {
     "name": "stdout",
     "output_type": "stream",
     "text": [
      "{'city1': 'FSD', 'city2': 'ISB', 'city3': 'MLT', 'city4': 'RWL', 'city5': 'LHR'}\n"
     ]
    }
   ],
   "source": [
    "# adding key & values using for loop\n",
    "\n",
    "dict1 = {}\n",
    "key3 = [\"city1\", \"city2\", \"city3\", \"city4\", \"city5\"]\n",
    "value3 = [\"FSD\", \"ISB\", \"MLT\", \"RWL\", \"LHR\"]\n",
    "\n",
    "for x in range(len(key3)):\n",
    "    dict1[key3[x]] = value3[x]\n",
    "print(dict1)"
   ]
  },
  {
   "cell_type": "code",
   "execution_count": 11,
   "metadata": {},
   "outputs": [
    {
     "name": "stdout",
     "output_type": "stream",
     "text": [
      "{0: 'A', 1: 'B', 2: 'C', 3: 'D', 4: 'E'}\n"
     ]
    }
   ],
   "source": [
    "# aadding values to using range of keys\n",
    "\n",
    "dict2 = {}\n",
    "keys4 = range(5)\n",
    "values4 = [\"A\", \"B\", \"C\", \"D\", \"E\"]\n",
    "\n",
    "for i in range(len(keys4)) :\n",
    "    dict2[keys4[i]] = values4[i]\n",
    "print(dict2)"
   ]
  },
  {
   "cell_type": "code",
   "execution_count": 12,
   "metadata": {},
   "outputs": [
    {
     "name": "stdout",
     "output_type": "stream",
     "text": [
      "{1: 'A', 2: 'B', 3: 'C', 4: 'D', 5: 'E', 6: 'F', 7: 'G'}\n"
     ]
    }
   ],
   "source": [
    "# again but with zip method\n",
    "\n",
    "dict3 = {}\n",
    "keys5 = [1,2,3,4,5,6,7]\n",
    "values5 = ['A', 'B', 'C','D', 'E', 'F', 'G']\n",
    "\n",
    "for keys,values in zip(keys5 , values5) :\n",
    "    dict3[keys] = values\n",
    "print(dict3)\n",
    "\n",
    "# Note: If a key is already present in dictionary and again you tried to add the same key in the same dictionary then it will overwrite the value of the key"
   ]
  },
  {
   "cell_type": "markdown",
   "metadata": {},
   "source": [
    "# Accessing values from the Dictionary"
   ]
  },
  {
   "cell_type": "code",
   "execution_count": 13,
   "metadata": {},
   "outputs": [
    {
     "name": "stdout",
     "output_type": "stream",
     "text": [
      "{'brand': 'Ford', 'model': 'Mustang', 'year': 1964}\n"
     ]
    }
   ],
   "source": [
    "# Lets create a dictionary \n",
    "\n",
    "car = {\n",
    "    \"brand\": \"Ford\",\n",
    "    \"model\": \"Mustang\",\n",
    "    \"year\": 1964\n",
    "}\n",
    "print(car)"
   ]
  },
  {
   "cell_type": "markdown",
   "metadata": {},
   "source": [
    "# Deleting key:values from the dictionary"
   ]
  },
  {
   "cell_type": "code",
   "execution_count": 14,
   "metadata": {},
   "outputs": [
    {
     "name": "stdout",
     "output_type": "stream",
     "text": [
      "{1: 'A', 2: 'B', 3: 'C', 4: 'D', 5: 'E', 6: 'F'}\n"
     ]
    }
   ],
   "source": [
    "print(dicts)"
   ]
  },
  {
   "cell_type": "code",
   "execution_count": 15,
   "metadata": {},
   "outputs": [
    {
     "name": "stdout",
     "output_type": "stream",
     "text": [
      "{2: 'B', 3: 'C', 4: 'D', 5: 'E', 6: 'F'}\n"
     ]
    }
   ],
   "source": [
    "#there is no idexing in the dictionary so you always have to select keys to delete the values along with keys from the dictionary\n",
    "\n",
    "del dicts[1]\n",
    "print(dicts)"
   ]
  },
  {
   "cell_type": "code",
   "execution_count": 16,
   "metadata": {},
   "outputs": [
    {
     "name": "stdout",
     "output_type": "stream",
     "text": [
      "{'city1': 'FSD', 'city2': 'ISB', 'city3': 'MLT', 'city4': 'RWL', 'city5': 'LHR'}\n"
     ]
    }
   ],
   "source": [
    "print(dict1)"
   ]
  },
  {
   "cell_type": "code",
   "execution_count": 17,
   "metadata": {},
   "outputs": [
    {
     "name": "stdout",
     "output_type": "stream",
     "text": [
      "{'city1': 'FSD', 'city2': 'ISB', 'city4': 'RWL', 'city5': 'LHR'}\n"
     ]
    }
   ],
   "source": [
    "del dict1['city3']\n",
    "print(dict1)"
   ]
  },
  {
   "cell_type": "code",
   "execution_count": 18,
   "metadata": {},
   "outputs": [
    {
     "name": "stdout",
     "output_type": "stream",
     "text": [
      "{'Arushi': 22, 'Anuradha': 21, 'Mani': 21, 'Haritha': 21}\n"
     ]
    }
   ],
   "source": [
    "test_dict = {\"Arushi\" : 22, \"Anuradha\" : 21, \"Mani\" : 21, \"Haritha\" : 21}\n",
    "print(test_dict)"
   ]
  },
  {
   "cell_type": "code",
   "execution_count": 19,
   "metadata": {},
   "outputs": [
    {
     "name": "stdout",
     "output_type": "stream",
     "text": [
      "21\n"
     ]
    }
   ],
   "source": [
    "# pop method will remove the value against the key provided but will not delete it rather it will show the value which you popped unlike del function\n",
    "\n",
    "popped_test_dict = test_dict.pop(\"Mani\")\n",
    "print(popped_test_dict)"
   ]
  },
  {
   "cell_type": "code",
   "execution_count": null,
   "metadata": {},
   "outputs": [],
   "source": []
  }
 ],
 "metadata": {
  "kernelspec": {
   "display_name": "Python 3",
   "language": "python",
   "name": "python3"
  },
  "language_info": {
   "codemirror_mode": {
    "name": "ipython",
    "version": 3
   },
   "file_extension": ".py",
   "mimetype": "text/x-python",
   "name": "python",
   "nbconvert_exporter": "python",
   "pygments_lexer": "ipython3",
   "version": "3.7.6"
  }
 },
 "nbformat": 4,
 "nbformat_minor": 4
}
